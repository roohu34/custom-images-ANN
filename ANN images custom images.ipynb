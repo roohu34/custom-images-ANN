{
 "cells": [
  {
   "cell_type": "code",
   "execution_count": 46,
   "id": "76bd0164",
   "metadata": {
    "scrolled": false
   },
   "outputs": [
    {
     "name": "stdout",
     "output_type": "stream",
     "text": [
      "Requirement already satisfied: opencv-python in c:\\users\\umar\\anaconda3\\lib\\site-packages (4.6.0.66)\n",
      "Requirement already satisfied: numpy>=1.14.5 in c:\\users\\umar\\anaconda3\\lib\\site-packages (from opencv-python) (1.20.1)\n",
      "Note: you may need to restart the kernel to use updated packages.\n"
     ]
    }
   ],
   "source": [
    "pip install opencv-python"
   ]
  },
  {
   "cell_type": "code",
   "execution_count": 36,
   "id": "8f05cfac",
   "metadata": {},
   "outputs": [],
   "source": [
    "import pandas as pd\n",
    "import numpy as np\n",
    "import matplotlib .pyplot as plt\n",
    "import matplotlib.image as mpimg"
   ]
  },
  {
   "cell_type": "code",
   "execution_count": 37,
   "id": "235a938d",
   "metadata": {},
   "outputs": [],
   "source": [
    "\n",
    "import cv2 \n",
    "import os \n",
    "import glob \n",
    "img_dir = r\"C:\\Users\\BSIS\\image1\" # Enter Directory of all images  \n",
    "data_path = os.path.join(img_dir,'*g') \n",
    "files = glob.glob(data_path) \n",
    "data = [] \n",
    "for f1 in files: \n",
    "    img = cv2.imread(f1) \n",
    "    img.resize((200,200))\n",
    "    data.append(img) \n",
    "    "
   ]
  },
  {
   "cell_type": "code",
   "execution_count": 38,
   "id": "a6b08f81",
   "metadata": {},
   "outputs": [
    {
     "data": {
      "text/plain": [
       "[array([[ 57,  57,  57, ...,  67,  61,  58],\n",
       "        [ 67,  61,  58, ...,  61,  70,  64],\n",
       "        [ 61,  70,  64, ...,  62,  60,  66],\n",
       "        ...,\n",
       "        [ 68,  77,  71, ...,  76,  74,  80],\n",
       "        [ 76,  75,  79, ..., 168,  67,  98],\n",
       "        [151,  48,  74, ...,  71,  77,  73]], dtype=uint8),\n",
       " array([[253, 253, 253, ...,  38,  40,  34],\n",
       "        [ 35,  22,  16, ...,  44,  65,  98],\n",
       "        [ 83, 104,  99, ..., 248, 251, 255],\n",
       "        ...,\n",
       "        [ 39,  46,  41, ..., 255, 255, 255],\n",
       "        [255, 255, 255, ...,  34,  33,  19],\n",
       "        [ 31,  34,  21, ..., 198, 236, 179]], dtype=uint8),\n",
       " array([[  7,  19,  21, ...,  92,  82,  70],\n",
       "        [ 82,  84,  72, ...,  46,  63,  58],\n",
       "        [ 43,  57,  55, ...,   2,   2,   2],\n",
       "        ...,\n",
       "        [ 67,  88,  67, ...,   0,   0,   0],\n",
       "        [  2,   2,   2, ..., 173, 107, 122],\n",
       "        [191,  91, 111, ...,   4,   9,   2]], dtype=uint8),\n",
       " array([[  0,   1,   2, ...,   2,   1,   0],\n",
       "        [  2,   1,   0, ...,   1,   1,   1],\n",
       "        [  1,   1,   1, ...,   0,   0,   5],\n",
       "        ...,\n",
       "        [ 79, 116,  59, ...,  66,  80,  99],\n",
       "        [ 45,  65,  83, ...,  64,  36,  50],\n",
       "        [ 68,  41,  55, ..., 131, 177, 104]], dtype=uint8),\n",
       " array([[254, 220, 184, ...,  10, 255, 164],\n",
       "        [ 11, 255, 166, ..., 179, 140, 223],\n",
       "        [185, 150, 228, ..., 255, 148,  10],\n",
       "        ...,\n",
       "        [177,  46, 249, ..., 255, 196,  93],\n",
       "        [255, 197,  95, ..., 180, 190, 169],\n",
       "        [138, 220, 176, ..., 255, 248, 253]], dtype=uint8),\n",
       " array([[186, 188, 188, ..., 185, 182, 184],\n",
       "        [184, 180, 182, ..., 172, 173, 166],\n",
       "        [171, 172, 157, ..., 161, 162, 160],\n",
       "        ...,\n",
       "        [169, 167, 165, ..., 139, 167, 232],\n",
       "        [138, 166, 231, ..., 143, 145, 143],\n",
       "        [142, 145, 143, ..., 114, 117,  95]], dtype=uint8),\n",
       " array([[  1,   1,   1, ...,  12,   4,   3],\n",
       "        [ 13,   0,   0, ...,   4,  52,   0],\n",
       "        [  0,  41,   0, ...,   1,   0,   7],\n",
       "        ...,\n",
       "        [197, 227, 166, ...,   1,   1,   1],\n",
       "        [  1,   1,   1, ..., 212, 118, 156],\n",
       "        [210, 115, 155, ..., 205, 236, 174]], dtype=uint8),\n",
       " array([[ 44,  67,  93, ...,  84,  41,  55],\n",
       "        [ 78,  39,  52, ..., 115, 166,  47],\n",
       "        [113, 164,  46, ...,  51, 114, 165],\n",
       "        ...,\n",
       "        [ 85, 118,  38, ...,  73, 102, 133],\n",
       "        [ 64,  89, 115, ..., 157,  51, 105],\n",
       "        [152,  52, 104, ...,  66,  82,  52]], dtype=uint8),\n",
       " array([[ 10,   9,  19, ...,  19,  10,  14],\n",
       "        [ 19,  10,  14, ...,   8,  20,   7],\n",
       "        [  9,  20,   7, ...,  10,   9,  29],\n",
       "        ...,\n",
       "        [ 97,  31, 118, ...,  54,  75,  96],\n",
       "        [ 59,  80, 101, ...,  83,  39,  55],\n",
       "        [ 72,  28,  42, ..., 111,   0, 149]], dtype=uint8),\n",
       " array([[ 69, 119, 191, ..., 163,  74,  86],\n",
       "        [152,  79,  90, ...,  52, 107,  22],\n",
       "        [ 53, 108,  24, ...,  35,  25,  38],\n",
       "        ...,\n",
       "        [ 90, 128,  77, ...,  47,  71, 101],\n",
       "        [ 66, 134, 217, ..., 198,  74, 112],\n",
       "        [200,  77, 113, ...,  38,  95,   9]], dtype=uint8),\n",
       " array([[115, 131, 144, ..., 158, 129, 138],\n",
       "        [158, 129, 138, ...,  43,  60,   6],\n",
       "        [ 36,  53,  13, ..., 118, 134, 147],\n",
       "        ...,\n",
       "        [ 10,  28,   2, ..., 136, 150, 169],\n",
       "        [131, 145, 164, ..., 210, 143, 166],\n",
       "        [211, 144, 168, ...,   0,   7,   0]], dtype=uint8),\n",
       " array([[ 26,  19,  10, ..., 193, 170, 169],\n",
       "        [195, 173, 172, ..., 223, 249, 215],\n",
       "        [230, 255, 203, ..., 184, 209, 241],\n",
       "        ...,\n",
       "        [189, 218, 188, ..., 183, 182, 208],\n",
       "        [187, 187, 211, ..., 227, 193, 213],\n",
       "        [248, 211, 231, ..., 214, 243, 200]], dtype=uint8),\n",
       " array([[ 25,  39,  37, ...,  46,  40,  40],\n",
       "        [ 46,  40,  40, ..., 152, 207, 114],\n",
       "        [144, 199, 111, ...,  28,  39,  37],\n",
       "        ...,\n",
       "        [ 54,  52,  41, ..., 163, 187, 247],\n",
       "        [140, 169, 243, ..., 172, 146, 163],\n",
       "        [189, 218, 234, ...,  58,  56,  48]], dtype=uint8),\n",
       " array([[137, 137, 137, ..., 127, 126, 126],\n",
       "        [126, 122, 122, ..., 246, 246, 252],\n",
       "        [252, 252, 253, ..., 116, 116, 116],\n",
       "        ...,\n",
       "        [223, 223, 224, ...,  52,  52,  52],\n",
       "        [108, 108, 108, ...,  97, 103, 103],\n",
       "        [103, 103, 103, ...,   0,   0,   0]], dtype=uint8),\n",
       " array([[ 66,  71, 193, ..., 213,  61,  65],\n",
       "        [208,  58,  62, ...,  97, 125, 180],\n",
       "        [ 98, 127, 184, ..., 161, 103,  91],\n",
       "        ...,\n",
       "        [175, 233, 132, ..., 238, 101, 152],\n",
       "        [240,  95, 150, ..., 161, 201, 171],\n",
       "        [154, 193, 164, ..., 191, 124, 236]], dtype=uint8),\n",
       " array([[ 88, 144, 133, ...,  88,  29, 111],\n",
       "        [ 92,  31, 112, ...,  59,  68,  66],\n",
       "        [ 63,  72,  92, ...,  52, 136, 132],\n",
       "        ...,\n",
       "        [190, 252, 165, ..., 101, 181, 188],\n",
       "        [ 98, 178, 185, ..., 141,  90, 123],\n",
       "        [138,  92, 125, ..., 175, 168,  97]], dtype=uint8),\n",
       " array([[103,  33,  74, ..., 117, 110,  32],\n",
       "        [116, 120,  41, ...,  43, 119, 108],\n",
       "        [ 39, 114, 104, ..., 128,  39,  49],\n",
       "        ...,\n",
       "        [156, 203,  96, ..., 144, 174, 233],\n",
       "        [144, 172, 232, ..., 225, 133, 152],\n",
       "        [225, 137, 157, ..., 153, 210, 123]], dtype=uint8),\n",
       " array([[ 13,  12,  14, ..., 100,  61,  64],\n",
       "        [108,  48,  52, ...,   4,   2,   1],\n",
       "        [  4,   2,   1, ..., 127, 113, 125],\n",
       "        ...,\n",
       "        [ 65,  82,  89, ...,   3,   2,   4],\n",
       "        [  3,   2,   4, ..., 213,  86, 118],\n",
       "        [201,  69,  95, ..., 158,  95, 253]], dtype=uint8),\n",
       " array([[ 93, 106, 122, ..., 143,  67, 106],\n",
       "        [150,  60,  97, ..., 105, 148,  72],\n",
       "        [110, 152,  72, ...,  91,  95, 119],\n",
       "        ...,\n",
       "        [ 27,  35,  31, ...,  27,  18,  15],\n",
       "        [ 27,  17,  17, ..., 127, 100, 104],\n",
       "        [128, 103, 107, ...,  27,  43,  21]], dtype=uint8),\n",
       " array([[ 80,  90, 100, ...,  58,  71,  59],\n",
       "        [ 71,  90,  79, ..., 216, 231, 188],\n",
       "        [223, 233, 180, ..., 250, 255, 254],\n",
       "        ...,\n",
       "        [255, 255, 253, ...,  73,  76,  84],\n",
       "        [ 91,  94, 102, ..., 103,  85,  95],\n",
       "        [102,  83,  93, ..., 110, 110,  92]], dtype=uint8)]"
      ]
     },
     "execution_count": 38,
     "metadata": {},
     "output_type": "execute_result"
    }
   ],
   "source": [
    "data\n"
   ]
  },
  {
   "cell_type": "code",
   "execution_count": 39,
   "id": "7d2a16a2",
   "metadata": {},
   "outputs": [],
   "source": [
    "import cv2 \n",
    "import os \n",
    "import glob \n",
    "img_dirs = r\"C:\\Users\\BSIS\\image1\" # Enter Directory of all images  \n",
    "data_paths = os.path.join(img_dirs,'*g') \n",
    "filess = glob.glob(data_paths) \n",
    "data1 = [] \n",
    "for f1 in filess: \n",
    "    imgs = cv2.imread(f1) \n",
    "    imgs.resize((200,200))\n",
    "    data1.append(imgs) "
   ]
  },
  {
   "cell_type": "code",
   "execution_count": null,
   "id": "42814ec3",
   "metadata": {},
   "outputs": [],
   "source": []
  },
  {
   "cell_type": "code",
   "execution_count": 40,
   "id": "c159e300",
   "metadata": {},
   "outputs": [
    {
     "data": {
      "text/plain": [
       "[array([[ 57,  57,  57, ...,  67,  61,  58],\n",
       "        [ 67,  61,  58, ...,  61,  70,  64],\n",
       "        [ 61,  70,  64, ...,  62,  60,  66],\n",
       "        ...,\n",
       "        [ 68,  77,  71, ...,  76,  74,  80],\n",
       "        [ 76,  75,  79, ..., 168,  67,  98],\n",
       "        [151,  48,  74, ...,  71,  77,  73]], dtype=uint8),\n",
       " array([[253, 253, 253, ...,  38,  40,  34],\n",
       "        [ 35,  22,  16, ...,  44,  65,  98],\n",
       "        [ 83, 104,  99, ..., 248, 251, 255],\n",
       "        ...,\n",
       "        [ 39,  46,  41, ..., 255, 255, 255],\n",
       "        [255, 255, 255, ...,  34,  33,  19],\n",
       "        [ 31,  34,  21, ..., 198, 236, 179]], dtype=uint8),\n",
       " array([[  7,  19,  21, ...,  92,  82,  70],\n",
       "        [ 82,  84,  72, ...,  46,  63,  58],\n",
       "        [ 43,  57,  55, ...,   2,   2,   2],\n",
       "        ...,\n",
       "        [ 67,  88,  67, ...,   0,   0,   0],\n",
       "        [  2,   2,   2, ..., 173, 107, 122],\n",
       "        [191,  91, 111, ...,   4,   9,   2]], dtype=uint8),\n",
       " array([[  0,   1,   2, ...,   2,   1,   0],\n",
       "        [  2,   1,   0, ...,   1,   1,   1],\n",
       "        [  1,   1,   1, ...,   0,   0,   5],\n",
       "        ...,\n",
       "        [ 79, 116,  59, ...,  66,  80,  99],\n",
       "        [ 45,  65,  83, ...,  64,  36,  50],\n",
       "        [ 68,  41,  55, ..., 131, 177, 104]], dtype=uint8),\n",
       " array([[254, 220, 184, ...,  10, 255, 164],\n",
       "        [ 11, 255, 166, ..., 179, 140, 223],\n",
       "        [185, 150, 228, ..., 255, 148,  10],\n",
       "        ...,\n",
       "        [177,  46, 249, ..., 255, 196,  93],\n",
       "        [255, 197,  95, ..., 180, 190, 169],\n",
       "        [138, 220, 176, ..., 255, 248, 253]], dtype=uint8),\n",
       " array([[186, 188, 188, ..., 185, 182, 184],\n",
       "        [184, 180, 182, ..., 172, 173, 166],\n",
       "        [171, 172, 157, ..., 161, 162, 160],\n",
       "        ...,\n",
       "        [169, 167, 165, ..., 139, 167, 232],\n",
       "        [138, 166, 231, ..., 143, 145, 143],\n",
       "        [142, 145, 143, ..., 114, 117,  95]], dtype=uint8),\n",
       " array([[  1,   1,   1, ...,  12,   4,   3],\n",
       "        [ 13,   0,   0, ...,   4,  52,   0],\n",
       "        [  0,  41,   0, ...,   1,   0,   7],\n",
       "        ...,\n",
       "        [197, 227, 166, ...,   1,   1,   1],\n",
       "        [  1,   1,   1, ..., 212, 118, 156],\n",
       "        [210, 115, 155, ..., 205, 236, 174]], dtype=uint8),\n",
       " array([[ 44,  67,  93, ...,  84,  41,  55],\n",
       "        [ 78,  39,  52, ..., 115, 166,  47],\n",
       "        [113, 164,  46, ...,  51, 114, 165],\n",
       "        ...,\n",
       "        [ 85, 118,  38, ...,  73, 102, 133],\n",
       "        [ 64,  89, 115, ..., 157,  51, 105],\n",
       "        [152,  52, 104, ...,  66,  82,  52]], dtype=uint8),\n",
       " array([[ 10,   9,  19, ...,  19,  10,  14],\n",
       "        [ 19,  10,  14, ...,   8,  20,   7],\n",
       "        [  9,  20,   7, ...,  10,   9,  29],\n",
       "        ...,\n",
       "        [ 97,  31, 118, ...,  54,  75,  96],\n",
       "        [ 59,  80, 101, ...,  83,  39,  55],\n",
       "        [ 72,  28,  42, ..., 111,   0, 149]], dtype=uint8),\n",
       " array([[ 69, 119, 191, ..., 163,  74,  86],\n",
       "        [152,  79,  90, ...,  52, 107,  22],\n",
       "        [ 53, 108,  24, ...,  35,  25,  38],\n",
       "        ...,\n",
       "        [ 90, 128,  77, ...,  47,  71, 101],\n",
       "        [ 66, 134, 217, ..., 198,  74, 112],\n",
       "        [200,  77, 113, ...,  38,  95,   9]], dtype=uint8),\n",
       " array([[115, 131, 144, ..., 158, 129, 138],\n",
       "        [158, 129, 138, ...,  43,  60,   6],\n",
       "        [ 36,  53,  13, ..., 118, 134, 147],\n",
       "        ...,\n",
       "        [ 10,  28,   2, ..., 136, 150, 169],\n",
       "        [131, 145, 164, ..., 210, 143, 166],\n",
       "        [211, 144, 168, ...,   0,   7,   0]], dtype=uint8),\n",
       " array([[ 26,  19,  10, ..., 193, 170, 169],\n",
       "        [195, 173, 172, ..., 223, 249, 215],\n",
       "        [230, 255, 203, ..., 184, 209, 241],\n",
       "        ...,\n",
       "        [189, 218, 188, ..., 183, 182, 208],\n",
       "        [187, 187, 211, ..., 227, 193, 213],\n",
       "        [248, 211, 231, ..., 214, 243, 200]], dtype=uint8),\n",
       " array([[ 25,  39,  37, ...,  46,  40,  40],\n",
       "        [ 46,  40,  40, ..., 152, 207, 114],\n",
       "        [144, 199, 111, ...,  28,  39,  37],\n",
       "        ...,\n",
       "        [ 54,  52,  41, ..., 163, 187, 247],\n",
       "        [140, 169, 243, ..., 172, 146, 163],\n",
       "        [189, 218, 234, ...,  58,  56,  48]], dtype=uint8),\n",
       " array([[137, 137, 137, ..., 127, 126, 126],\n",
       "        [126, 122, 122, ..., 246, 246, 252],\n",
       "        [252, 252, 253, ..., 116, 116, 116],\n",
       "        ...,\n",
       "        [223, 223, 224, ...,  52,  52,  52],\n",
       "        [108, 108, 108, ...,  97, 103, 103],\n",
       "        [103, 103, 103, ...,   0,   0,   0]], dtype=uint8),\n",
       " array([[ 66,  71, 193, ..., 213,  61,  65],\n",
       "        [208,  58,  62, ...,  97, 125, 180],\n",
       "        [ 98, 127, 184, ..., 161, 103,  91],\n",
       "        ...,\n",
       "        [175, 233, 132, ..., 238, 101, 152],\n",
       "        [240,  95, 150, ..., 161, 201, 171],\n",
       "        [154, 193, 164, ..., 191, 124, 236]], dtype=uint8),\n",
       " array([[ 88, 144, 133, ...,  88,  29, 111],\n",
       "        [ 92,  31, 112, ...,  59,  68,  66],\n",
       "        [ 63,  72,  92, ...,  52, 136, 132],\n",
       "        ...,\n",
       "        [190, 252, 165, ..., 101, 181, 188],\n",
       "        [ 98, 178, 185, ..., 141,  90, 123],\n",
       "        [138,  92, 125, ..., 175, 168,  97]], dtype=uint8),\n",
       " array([[103,  33,  74, ..., 117, 110,  32],\n",
       "        [116, 120,  41, ...,  43, 119, 108],\n",
       "        [ 39, 114, 104, ..., 128,  39,  49],\n",
       "        ...,\n",
       "        [156, 203,  96, ..., 144, 174, 233],\n",
       "        [144, 172, 232, ..., 225, 133, 152],\n",
       "        [225, 137, 157, ..., 153, 210, 123]], dtype=uint8),\n",
       " array([[ 13,  12,  14, ..., 100,  61,  64],\n",
       "        [108,  48,  52, ...,   4,   2,   1],\n",
       "        [  4,   2,   1, ..., 127, 113, 125],\n",
       "        ...,\n",
       "        [ 65,  82,  89, ...,   3,   2,   4],\n",
       "        [  3,   2,   4, ..., 213,  86, 118],\n",
       "        [201,  69,  95, ..., 158,  95, 253]], dtype=uint8),\n",
       " array([[ 93, 106, 122, ..., 143,  67, 106],\n",
       "        [150,  60,  97, ..., 105, 148,  72],\n",
       "        [110, 152,  72, ...,  91,  95, 119],\n",
       "        ...,\n",
       "        [ 27,  35,  31, ...,  27,  18,  15],\n",
       "        [ 27,  17,  17, ..., 127, 100, 104],\n",
       "        [128, 103, 107, ...,  27,  43,  21]], dtype=uint8),\n",
       " array([[ 80,  90, 100, ...,  58,  71,  59],\n",
       "        [ 71,  90,  79, ..., 216, 231, 188],\n",
       "        [223, 233, 180, ..., 250, 255, 254],\n",
       "        ...,\n",
       "        [255, 255, 253, ...,  73,  76,  84],\n",
       "        [ 91,  94, 102, ..., 103,  85,  95],\n",
       "        [102,  83,  93, ..., 110, 110,  92]], dtype=uint8)]"
      ]
     },
     "execution_count": 40,
     "metadata": {},
     "output_type": "execute_result"
    }
   ],
   "source": [
    "data1"
   ]
  },
  {
   "cell_type": "code",
   "execution_count": 41,
   "id": "ddf0396e",
   "metadata": {},
   "outputs": [
    {
     "data": {
      "text/plain": [
       "(40, 200, 200)"
      ]
     },
     "execution_count": 41,
     "metadata": {},
     "output_type": "execute_result"
    }
   ],
   "source": [
    "a=data+data1\n",
    "x=np.array(a)\n",
    "x.shape\n"
   ]
  },
  {
   "cell_type": "code",
   "execution_count": 42,
   "id": "75e651bc",
   "metadata": {},
   "outputs": [],
   "source": [
    "o=np.stack([1,1,1,1,1,1,1,1,1,1,1,1,1,1,1,1,1,1,1,1])\n",
    "z=np.stack([0,0,0,0,0,0,0,0,0,0,0,0,0,0,0,0,0,0,0,0])"
   ]
  },
  {
   "cell_type": "code",
   "execution_count": 43,
   "id": "273d17c2",
   "metadata": {},
   "outputs": [
    {
     "data": {
      "text/plain": [
       "array([1, 1, 1, 1, 1, 1, 1, 1, 1, 1, 1, 1, 1, 1, 1, 1, 1, 1, 1, 1, 0, 0,\n",
       "       0, 0, 0, 0, 0, 0, 0, 0, 0, 0, 0, 0, 0, 0, 0, 0, 0, 0])"
      ]
     },
     "execution_count": 43,
     "metadata": {},
     "output_type": "execute_result"
    }
   ],
   "source": [
    "y=np.append(o,z)\n",
    "y=np.array(y)\n",
    "y"
   ]
  },
  {
   "cell_type": "code",
   "execution_count": 46,
   "id": "9a164cdd",
   "metadata": {},
   "outputs": [
    {
     "data": {
      "text/plain": [
       "array([[ 57,  57,  57, ...,  71,  77,  73],\n",
       "       [253, 253, 253, ..., 198, 236, 179],\n",
       "       [  7,  19,  21, ...,   4,   9,   2],\n",
       "       ...,\n",
       "       [ 13,  12,  14, ..., 158,  95, 253],\n",
       "       [ 93, 106, 122, ...,  27,  43,  21],\n",
       "       [ 80,  90, 100, ..., 110, 110,  92]], dtype=uint8)"
      ]
     },
     "execution_count": 46,
     "metadata": {},
     "output_type": "execute_result"
    }
   ],
   "source": [
    "x=x.reshape(40,200*200)\n",
    "x"
   ]
  },
  {
   "cell_type": "code",
   "execution_count": 47,
   "id": "be656352",
   "metadata": {
    "scrolled": true
   },
   "outputs": [
    {
     "data": {
      "text/plain": [
       "(40,)"
      ]
     },
     "execution_count": 47,
     "metadata": {},
     "output_type": "execute_result"
    }
   ],
   "source": [
    "y.shape"
   ]
  },
  {
   "cell_type": "code",
   "execution_count": 48,
   "id": "37af4104",
   "metadata": {},
   "outputs": [],
   "source": [
    "from sklearn.model_selection import train_test_split"
   ]
  },
  {
   "cell_type": "code",
   "execution_count": 49,
   "id": "bb61d342",
   "metadata": {},
   "outputs": [],
   "source": [
    "xtrain,xtest,ytrain,ytest=train_test_split(x,y,test_size=0.2,shuffle=True,random_state=150)"
   ]
  },
  {
   "cell_type": "code",
   "execution_count": 71,
   "id": "f03f01d4",
   "metadata": {},
   "outputs": [],
   "source": [
    "KNN=KNeighborsClassifier()"
   ]
  },
  {
   "cell_type": "code",
   "execution_count": 72,
   "id": "f6cb59ba",
   "metadata": {},
   "outputs": [
    {
     "data": {
      "text/plain": [
       "KNeighborsClassifier()"
      ]
     },
     "execution_count": 72,
     "metadata": {},
     "output_type": "execute_result"
    }
   ],
   "source": [
    "KNN.fit(xtrain,ytrain)"
   ]
  },
  {
   "cell_type": "code",
   "execution_count": 73,
   "id": "0769c595",
   "metadata": {},
   "outputs": [
    {
     "data": {
      "text/plain": [
       "array([0, 0, 1, 0, 0, 0, 0, 0])"
      ]
     },
     "execution_count": 73,
     "metadata": {},
     "output_type": "execute_result"
    }
   ],
   "source": [
    "KNN.predict(xtest)"
   ]
  },
  {
   "cell_type": "code",
   "execution_count": 74,
   "id": "c451d664",
   "metadata": {},
   "outputs": [
    {
     "data": {
      "text/plain": [
       "0.25"
      ]
     },
     "execution_count": 74,
     "metadata": {},
     "output_type": "execute_result"
    }
   ],
   "source": [
    "KNN.score(xtest,ytest)"
   ]
  },
  {
   "cell_type": "code",
   "execution_count": 113,
   "id": "9d65f9f9",
   "metadata": {},
   "outputs": [
    {
     "data": {
      "text/plain": [
       "(32, 40000)"
      ]
     },
     "execution_count": 113,
     "metadata": {},
     "output_type": "execute_result"
    }
   ],
   "source": [
    "xtrain.shape"
   ]
  },
  {
   "cell_type": "code",
   "execution_count": 114,
   "id": "2c1530ab",
   "metadata": {},
   "outputs": [
    {
     "data": {
      "text/plain": [
       "(32,)"
      ]
     },
     "execution_count": 114,
     "metadata": {},
     "output_type": "execute_result"
    }
   ],
   "source": [
    "ytrain.shape"
   ]
  },
  {
   "cell_type": "markdown",
   "id": "feaa30ee",
   "metadata": {},
   "source": [
    "# ANN"
   ]
  },
  {
   "cell_type": "code",
   "execution_count": 115,
   "id": "f0851eea",
   "metadata": {},
   "outputs": [],
   "source": [
    "import tensorflow as tf\n",
    "from tensorflow import keras"
   ]
  },
  {
   "cell_type": "code",
   "execution_count": 128,
   "id": "81b18a09",
   "metadata": {},
   "outputs": [
    {
     "name": "stdout",
     "output_type": "stream",
     "text": [
      "Model: \"sequential_3\"\n",
      "_________________________________________________________________\n",
      " Layer (type)                Output Shape              Param #   \n",
      "=================================================================\n",
      " dense_9 (Dense)             (None, 10)                400010    \n",
      "                                                                 \n",
      " dense_10 (Dense)            (None, 6)                 66        \n",
      "                                                                 \n",
      " dense_11 (Dense)            (None, 1)                 7         \n",
      "                                                                 \n",
      "=================================================================\n",
      "Total params: 400,083\n",
      "Trainable params: 400,083\n",
      "Non-trainable params: 0\n",
      "_________________________________________________________________\n"
     ]
    }
   ],
   "source": [
    "model=keras.Sequential([\n",
    "    keras.layers.Dense(10,input_shape=(40000,),activation='relu'), #input shape\n",
    "    keras.layers.Dense(6,activation='relu'), #hidden layer\n",
    "    keras.layers.Dense(1,activation='sigmoid') #output layer\n",
    "])\n",
    "model.compile(\n",
    "    optimizer='adam',\n",
    "    loss='binary_crossentropy',\n",
    "    metrics=['accuracy']\n",
    ")\n",
    "model.summary()"
   ]
  },
  {
   "cell_type": "code",
   "execution_count": 129,
   "id": "faa46993",
   "metadata": {},
   "outputs": [
    {
     "data": {
      "text/plain": [
       "(40, 40000)"
      ]
     },
     "execution_count": 129,
     "metadata": {},
     "output_type": "execute_result"
    }
   ],
   "source": [
    "x.shape"
   ]
  },
  {
   "cell_type": "code",
   "execution_count": 125,
   "id": "6b66b18b",
   "metadata": {},
   "outputs": [
    {
     "data": {
      "text/plain": [
       "(40,)"
      ]
     },
     "execution_count": 125,
     "metadata": {},
     "output_type": "execute_result"
    }
   ],
   "source": [
    "y.shape"
   ]
  },
  {
   "cell_type": "code",
   "execution_count": 126,
   "id": "40665640",
   "metadata": {
    "scrolled": true
   },
   "outputs": [
    {
     "data": {
      "text/plain": [
       "(32, 40000)"
      ]
     },
     "execution_count": 126,
     "metadata": {},
     "output_type": "execute_result"
    }
   ],
   "source": [
    "xtrain.shape"
   ]
  },
  {
   "cell_type": "code",
   "execution_count": 127,
   "id": "9d5b0f5a",
   "metadata": {},
   "outputs": [
    {
     "data": {
      "text/plain": [
       "(32,)"
      ]
     },
     "execution_count": 127,
     "metadata": {},
     "output_type": "execute_result"
    }
   ],
   "source": [
    "ytrain.shape"
   ]
  },
  {
   "cell_type": "code",
   "execution_count": 130,
   "id": "e50428e1",
   "metadata": {
    "scrolled": true
   },
   "outputs": [
    {
     "name": "stdout",
     "output_type": "stream",
     "text": [
      "Epoch 1/50\n",
      "1/1 [==============================] - 1s 899ms/step - loss: 260.3764 - accuracy: 0.5000 - val_loss: 1332.6454 - val_accuracy: 0.2500\n",
      "Epoch 2/50\n",
      "1/1 [==============================] - 0s 80ms/step - loss: 615.4974 - accuracy: 0.5000 - val_loss: 1270.4507 - val_accuracy: 0.2500\n",
      "Epoch 3/50\n",
      "1/1 [==============================] - 0s 46ms/step - loss: 586.8868 - accuracy: 0.5000 - val_loss: 841.0577 - val_accuracy: 0.2500\n",
      "Epoch 4/50\n",
      "1/1 [==============================] - 0s 51ms/step - loss: 390.1150 - accuracy: 0.5000 - val_loss: 439.0673 - val_accuracy: 0.2500\n",
      "Epoch 5/50\n",
      "1/1 [==============================] - 0s 45ms/step - loss: 203.8763 - accuracy: 0.5000 - val_loss: 305.4244 - val_accuracy: 0.2500\n",
      "Epoch 6/50\n",
      "1/1 [==============================] - 0s 53ms/step - loss: 140.8385 - accuracy: 0.5000 - val_loss: 268.3600 - val_accuracy: 0.2500\n",
      "Epoch 7/50\n",
      "1/1 [==============================] - 0s 49ms/step - loss: 123.7084 - accuracy: 0.5000 - val_loss: 199.8011 - val_accuracy: 0.2500\n",
      "Epoch 8/50\n",
      "1/1 [==============================] - 0s 54ms/step - loss: 92.1079 - accuracy: 0.5000 - val_loss: 116.7561 - val_accuracy: 0.2500\n",
      "Epoch 9/50\n",
      "1/1 [==============================] - 0s 48ms/step - loss: 53.8601 - accuracy: 0.5000 - val_loss: 28.2036 - val_accuracy: 0.2500\n",
      "Epoch 10/50\n",
      "1/1 [==============================] - 0s 46ms/step - loss: 13.0918 - accuracy: 0.5000 - val_loss: 0.6904 - val_accuracy: 0.7500\n",
      "Epoch 11/50\n",
      "1/1 [==============================] - 0s 48ms/step - loss: 0.6932 - accuracy: 0.5000 - val_loss: 0.6901 - val_accuracy: 0.7500\n",
      "Epoch 12/50\n",
      "1/1 [==============================] - 0s 44ms/step - loss: 0.6932 - accuracy: 0.5000 - val_loss: 0.6899 - val_accuracy: 0.7500\n",
      "Epoch 13/50\n",
      "1/1 [==============================] - 0s 49ms/step - loss: 0.6932 - accuracy: 0.5000 - val_loss: 0.6897 - val_accuracy: 0.7500\n",
      "Epoch 14/50\n",
      "1/1 [==============================] - 0s 50ms/step - loss: 0.6932 - accuracy: 0.5000 - val_loss: 0.6896 - val_accuracy: 0.7500\n",
      "Epoch 15/50\n",
      "1/1 [==============================] - 0s 52ms/step - loss: 0.6932 - accuracy: 0.5000 - val_loss: 0.6894 - val_accuracy: 0.7500\n",
      "Epoch 16/50\n",
      "1/1 [==============================] - 0s 45ms/step - loss: 0.6932 - accuracy: 0.5000 - val_loss: 0.6893 - val_accuracy: 0.7500\n",
      "Epoch 17/50\n",
      "1/1 [==============================] - 0s 50ms/step - loss: 0.6932 - accuracy: 0.5000 - val_loss: 0.6891 - val_accuracy: 0.7500\n",
      "Epoch 18/50\n",
      "1/1 [==============================] - 0s 45ms/step - loss: 0.6932 - accuracy: 0.5000 - val_loss: 0.6890 - val_accuracy: 0.7500\n",
      "Epoch 19/50\n",
      "1/1 [==============================] - 0s 51ms/step - loss: 0.6932 - accuracy: 0.5000 - val_loss: 0.6889 - val_accuracy: 0.7500\n",
      "Epoch 20/50\n",
      "1/1 [==============================] - 0s 45ms/step - loss: 0.6932 - accuracy: 0.5000 - val_loss: 0.6888 - val_accuracy: 0.7500\n",
      "Epoch 21/50\n",
      "1/1 [==============================] - 0s 48ms/step - loss: 0.6932 - accuracy: 0.5000 - val_loss: 0.6887 - val_accuracy: 0.7500\n",
      "Epoch 22/50\n",
      "1/1 [==============================] - 0s 46ms/step - loss: 0.6932 - accuracy: 0.5000 - val_loss: 0.6887 - val_accuracy: 0.7500\n",
      "Epoch 23/50\n",
      "1/1 [==============================] - 0s 47ms/step - loss: 0.6932 - accuracy: 0.5000 - val_loss: 0.6886 - val_accuracy: 0.7500\n",
      "Epoch 24/50\n",
      "1/1 [==============================] - 0s 45ms/step - loss: 0.6932 - accuracy: 0.5000 - val_loss: 0.6885 - val_accuracy: 0.7500\n",
      "Epoch 25/50\n",
      "1/1 [==============================] - 0s 47ms/step - loss: 0.6932 - accuracy: 0.5000 - val_loss: 0.6885 - val_accuracy: 0.7500\n",
      "Epoch 26/50\n",
      "1/1 [==============================] - 0s 48ms/step - loss: 0.6932 - accuracy: 0.5000 - val_loss: 0.6884 - val_accuracy: 0.7500\n",
      "Epoch 27/50\n",
      "1/1 [==============================] - 0s 54ms/step - loss: 0.6932 - accuracy: 0.5000 - val_loss: 0.6884 - val_accuracy: 0.7500\n",
      "Epoch 28/50\n",
      "1/1 [==============================] - 0s 44ms/step - loss: 0.6932 - accuracy: 0.5000 - val_loss: 0.6884 - val_accuracy: 0.7500\n",
      "Epoch 29/50\n",
      "1/1 [==============================] - 0s 49ms/step - loss: 0.6932 - accuracy: 0.5000 - val_loss: 0.6883 - val_accuracy: 0.7500\n",
      "Epoch 30/50\n",
      "1/1 [==============================] - 0s 45ms/step - loss: 0.6932 - accuracy: 0.5000 - val_loss: 0.6883 - val_accuracy: 0.7500\n",
      "Epoch 31/50\n",
      "1/1 [==============================] - 0s 53ms/step - loss: 0.6932 - accuracy: 0.5000 - val_loss: 0.6883 - val_accuracy: 0.7500\n",
      "Epoch 32/50\n",
      "1/1 [==============================] - 0s 45ms/step - loss: 0.6932 - accuracy: 0.5000 - val_loss: 0.6882 - val_accuracy: 0.7500\n",
      "Epoch 33/50\n",
      "1/1 [==============================] - 0s 50ms/step - loss: 0.6932 - accuracy: 0.5000 - val_loss: 0.6882 - val_accuracy: 0.7500\n",
      "Epoch 34/50\n",
      "1/1 [==============================] - 0s 45ms/step - loss: 0.6932 - accuracy: 0.5000 - val_loss: 0.6882 - val_accuracy: 0.7500\n",
      "Epoch 35/50\n",
      "1/1 [==============================] - 0s 49ms/step - loss: 0.6932 - accuracy: 0.5000 - val_loss: 0.6882 - val_accuracy: 0.7500\n",
      "Epoch 36/50\n",
      "1/1 [==============================] - 0s 47ms/step - loss: 0.6932 - accuracy: 0.5000 - val_loss: 0.6881 - val_accuracy: 0.7500\n",
      "Epoch 37/50\n",
      "1/1 [==============================] - 0s 52ms/step - loss: 0.6932 - accuracy: 0.5000 - val_loss: 0.6881 - val_accuracy: 0.7500\n",
      "Epoch 38/50\n",
      "1/1 [==============================] - 0s 44ms/step - loss: 0.6932 - accuracy: 0.5000 - val_loss: 0.6881 - val_accuracy: 0.7500\n",
      "Epoch 39/50\n",
      "1/1 [==============================] - 0s 53ms/step - loss: 0.6932 - accuracy: 0.5000 - val_loss: 0.6881 - val_accuracy: 0.7500\n",
      "Epoch 40/50\n",
      "1/1 [==============================] - 0s 44ms/step - loss: 0.6932 - accuracy: 0.5000 - val_loss: 0.6881 - val_accuracy: 0.7500\n",
      "Epoch 41/50\n",
      "1/1 [==============================] - 0s 51ms/step - loss: 0.6932 - accuracy: 0.5000 - val_loss: 0.6881 - val_accuracy: 0.7500\n",
      "Epoch 42/50\n",
      "1/1 [==============================] - 0s 46ms/step - loss: 0.6932 - accuracy: 0.5000 - val_loss: 0.6881 - val_accuracy: 0.7500\n",
      "Epoch 43/50\n",
      "1/1 [==============================] - 0s 52ms/step - loss: 0.6932 - accuracy: 0.5000 - val_loss: 0.6881 - val_accuracy: 0.7500\n",
      "Epoch 44/50\n",
      "1/1 [==============================] - 0s 44ms/step - loss: 0.6932 - accuracy: 0.5000 - val_loss: 0.6881 - val_accuracy: 0.7500\n",
      "Epoch 45/50\n",
      "1/1 [==============================] - 0s 51ms/step - loss: 0.6932 - accuracy: 0.5000 - val_loss: 0.6881 - val_accuracy: 0.7500\n",
      "Epoch 46/50\n",
      "1/1 [==============================] - 0s 44ms/step - loss: 0.6932 - accuracy: 0.5000 - val_loss: 0.6881 - val_accuracy: 0.7500\n",
      "Epoch 47/50\n",
      "1/1 [==============================] - 0s 53ms/step - loss: 0.6932 - accuracy: 0.5000 - val_loss: 0.6881 - val_accuracy: 0.7500\n",
      "Epoch 48/50\n",
      "1/1 [==============================] - 0s 45ms/step - loss: 0.6932 - accuracy: 0.5000 - val_loss: 0.6881 - val_accuracy: 0.7500\n",
      "Epoch 49/50\n",
      "1/1 [==============================] - 0s 53ms/step - loss: 0.6932 - accuracy: 0.5000 - val_loss: 0.6881 - val_accuracy: 0.7500\n",
      "Epoch 50/50\n",
      "1/1 [==============================] - 0s 47ms/step - loss: 0.6932 - accuracy: 0.5000 - val_loss: 0.6881 - val_accuracy: 0.7500\n"
     ]
    }
   ],
   "source": [
    "history = model.fit(xtrain , ytrain , validation_split=0.1 , epochs=50)"
   ]
  },
  {
   "cell_type": "code",
   "execution_count": 132,
   "id": "1dcc12dc",
   "metadata": {},
   "outputs": [
    {
     "name": "stdout",
     "output_type": "stream",
     "text": [
      "1/1 [==============================] - 0s 26ms/step - loss: 0.6958 - accuracy: 0.3750\n"
     ]
    },
    {
     "data": {
      "text/plain": [
       "[0.6957611441612244, 0.375]"
      ]
     },
     "execution_count": 132,
     "metadata": {},
     "output_type": "execute_result"
    }
   ],
   "source": [
    "model.evaluate(xtest,ytest)"
   ]
  },
  {
   "cell_type": "code",
   "execution_count": 134,
   "id": "76b34141",
   "metadata": {},
   "outputs": [
    {
     "data": {
      "text/plain": [
       "array([0, 1, 0, 1, 0, 1, 1, 1])"
      ]
     },
     "execution_count": 134,
     "metadata": {},
     "output_type": "execute_result"
    }
   ],
   "source": [
    "ytest"
   ]
  },
  {
   "cell_type": "code",
   "execution_count": 135,
   "id": "8f84afd4",
   "metadata": {},
   "outputs": [],
   "source": [
    "import numpy as np"
   ]
  },
  {
   "cell_type": "code",
   "execution_count": 138,
   "id": "ee544d5c",
   "metadata": {},
   "outputs": [
    {
     "name": "stdout",
     "output_type": "stream",
     "text": [
      "1/1 [==============================] - 0s 22ms/step\n"
     ]
    },
    {
     "data": {
      "text/plain": [
       "array([[0.],\n",
       "       [0.],\n",
       "       [0.],\n",
       "       [0.],\n",
       "       [0.],\n",
       "       [0.],\n",
       "       [0.],\n",
       "       [0.]], dtype=float32)"
      ]
     },
     "execution_count": 138,
     "metadata": {},
     "output_type": "execute_result"
    }
   ],
   "source": [
    "# collect predictions \n",
    "predictions = np.round(model.predict(xtest))\n",
    "predictions"
   ]
  },
  {
   "cell_type": "code",
   "execution_count": 139,
   "id": "8780def5",
   "metadata": {},
   "outputs": [
    {
     "data": {
      "image/png": "[encoded data removed]",
      "text/plain": [
       "<Figure size 1152x720 with 1 Axes>"
      ]
     },
     "metadata": {
      "needs_background": "light"
     },
     "output_type": "display_data"
    },
    {
     "data": {
      "image/png": "[encoded data removed]",
      "text/plain": [
       "<Figure size 1152x720 with 1 Axes>"
      ]
     },
     "metadata": {
      "needs_background": "light"
     },
     "output_type": "display_data"
    }
   ],
   "source": [
    "#  \"Accuracy Plot\"\n",
    "plt.figure(figsize=(16,10))\n",
    "plt.plot(history.history['accuracy'])\n",
    "plt.plot(history.history['val_accuracy'])\n",
    "plt.title('model accuracy')\n",
    "plt.ylabel('accuracy')\n",
    "plt.xlabel('epoch')\n",
    "plt.legend(['train', 'validation'], loc='upper left')\n",
    "plt.show()\n",
    "\n",
    "# \"Loss Plot\"\n",
    "plt.figure(figsize=(16,10))\n",
    "plt.plot(history.history['loss'])\n",
    "plt.plot(history.history['val_loss'])\n",
    "plt.title('model loss')\n",
    "plt.ylabel('loss')\n",
    "plt.xlabel('epoch')\n",
    "plt.legend(['train', 'validation'], loc='upper left')\n",
    "plt.show()\n",
    "\n",
    "# We see a lot of fluctuations in Accuracy Graph which concludes model learning is unstable "
   ]
  },
  {
   "cell_type": "code",
   "execution_count": 141,
   "id": "411bd23a",
   "metadata": {},
   "outputs": [
    {
     "data": {
      "text/plain": [
       "array([0, 1, 0, 1, 0, 1, 1, 1])"
      ]
     },
     "execution_count": 141,
     "metadata": {},
     "output_type": "execute_result"
    }
   ],
   "source": [
    "# Check Accuracy\n",
    "\n",
    "ytest"
   ]
  },
  {
   "cell_type": "code",
   "execution_count": 143,
   "id": "fbfc86f9",
   "metadata": {},
   "outputs": [
    {
     "name": "stdout",
     "output_type": "stream",
     "text": [
      "1/1 [==============================] - 0s 22ms/step\n"
     ]
    },
    {
     "data": {
      "text/plain": [
       "array([[0.],\n",
       "       [0.],\n",
       "       [0.],\n",
       "       [0.],\n",
       "       [0.],\n",
       "       [0.],\n",
       "       [0.],\n",
       "       [0.]], dtype=float32)"
      ]
     },
     "execution_count": 143,
     "metadata": {},
     "output_type": "execute_result"
    }
   ],
   "source": [
    "predictions = np.round(model.predict(xtest))\n",
    "predictions"
   ]
  },
  {
   "cell_type": "code",
   "execution_count": 145,
   "id": "1f0bc86f",
   "metadata": {},
   "outputs": [
    {
     "name": "stdout",
     "output_type": "stream",
     "text": [
      "[[3 0]\n",
      " [5 0]]\n",
      "0.375\n"
     ]
    }
   ],
   "source": [
    "from sklearn.metrics import accuracy_score,confusion_matrix ,classification_report\n",
    "cm=confusion_matrix(ytest,predictions)\n",
    "print(cm)\n",
    "print(accuracy_score(ytest,predictions))"
   ]
  },
  {
   "cell_type": "code",
   "execution_count": 147,
   "id": "ce04f2e7",
   "metadata": {},
   "outputs": [
    {
     "name": "stdout",
     "output_type": "stream",
     "text": [
      "              precision    recall  f1-score   support\n",
      "\n",
      "           0       0.38      1.00      0.55         3\n",
      "           1       0.00      0.00      0.00         5\n",
      "\n",
      "    accuracy                           0.38         8\n",
      "   macro avg       0.19      0.50      0.27         8\n",
      "weighted avg       0.14      0.38      0.20         8\n",
      "\n"
     ]
    },
    {
     "name": "stderr",
     "output_type": "stream",
     "text": [
      "C:\\Users\\BSIS\\anaconda3\\lib\\site-packages\\sklearn\\metrics\\_classification.py:1245: UndefinedMetricWarning: Precision and F-score are ill-defined and being set to 0.0 in labels with no predicted samples. Use `zero_division` parameter to control this behavior.\n",
      "  _warn_prf(average, modifier, msg_start, len(result))\n",
      "C:\\Users\\BSIS\\anaconda3\\lib\\site-packages\\sklearn\\metrics\\_classification.py:1245: UndefinedMetricWarning: Precision and F-score are ill-defined and being set to 0.0 in labels with no predicted samples. Use `zero_division` parameter to control this behavior.\n",
      "  _warn_prf(average, modifier, msg_start, len(result))\n",
      "C:\\Users\\BSIS\\anaconda3\\lib\\site-packages\\sklearn\\metrics\\_classification.py:1245: UndefinedMetricWarning: Precision and F-score are ill-defined and being set to 0.0 in labels with no predicted samples. Use `zero_division` parameter to control this behavior.\n",
      "  _warn_prf(average, modifier, msg_start, len(result))\n"
     ]
    }
   ],
   "source": [
    "print(classification_report(ytest,predictions))"
   ]
  },
  {
   "cell_type": "code",
   "execution_count": null,
   "id": "a0ccae84",
   "metadata": {},
   "outputs": [],
   "source": []
  }
 ],
 "metadata": {
  "kernelspec": {
   "display_name": "Python 3",
   "language": "python",
   "name": "python3"
  },
  "language_info": {
   "codemirror_mode": {
    "name": "ipython",
    "version": 3
   },
   "file_extension": ".py",
   "mimetype": "text/x-python",
   "name": "python",
   "nbconvert_exporter": "python",
   "pygments_lexer": "ipython3",
   "version": "3.8.8"
  }
 },
 "nbformat": 4,
 "nbformat_minor": 5
}
